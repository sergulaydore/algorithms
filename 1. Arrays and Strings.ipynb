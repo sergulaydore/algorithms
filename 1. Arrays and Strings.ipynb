{
 "cells": [
  {
   "cell_type": "markdown",
   "metadata": {},
   "source": [
    "**1. Implement an algorithm to determine if a string has all unique characters. What if you can not use additional data structures? **"
   ]
  },
  {
   "cell_type": "code",
   "execution_count": 3,
   "metadata": {
    "collapsed": false
   },
   "outputs": [
    {
     "name": "stdout",
     "output_type": "stream",
     "text": [
      "True\n",
      "False\n"
     ]
    }
   ],
   "source": [
    "def check_unique(a_string):\n",
    "    hash_str = dict()\n",
    "    for char in a_string:\n",
    "        if char not in hash_str: hash_str[char] = 1\n",
    "        else: return False\n",
    "    return True\n",
    "# test\n",
    "a_string = 'sergul'\n",
    "print check_unique(a_string)\n",
    "a_string = 'serrrgul'\n",
    "print check_unique(a_string)"
   ]
  },
  {
   "cell_type": "code",
   "execution_count": 4,
   "metadata": {
    "collapsed": false
   },
   "outputs": [
    {
     "name": "stdout",
     "output_type": "stream",
     "text": [
      "True\n",
      "False\n"
     ]
    }
   ],
   "source": [
    "# no additional data structure\n",
    "def check_unique(a_string):\n",
    "    for idx in xrange(len(a_string)):\n",
    "        char = a_string[idx]\n",
    "        rest = a_string[:idx]+a_string[idx+1:]\n",
    "        if char in rest: \n",
    "            return False\n",
    "    return True\n",
    "# test\n",
    "a_string = 'sergul'\n",
    "print check_unique(a_string)\n",
    "a_string = 'serrrgul'\n",
    "print check_unique(a_string)       \n",
    "    "
   ]
  },
  {
   "cell_type": "markdown",
   "metadata": {
    "collapsed": true
   },
   "source": [
    "**2. Implement a function which reverses a string **"
   ]
  },
  {
   "cell_type": "code",
   "execution_count": 6,
   "metadata": {
    "collapsed": false
   },
   "outputs": [
    {
     "name": "stdout",
     "output_type": "stream",
     "text": [
      "lugres\n"
     ]
    }
   ],
   "source": [
    "a_string = 'sergul'\n",
    "def reverse_string(a_string):\n",
    "    if a_string is '':\n",
    "        return ''\n",
    "    else:\n",
    "        return a_string[-1]+reverse_string(a_string[0:-1])\n",
    "print reverse_string(a_string)"
   ]
  },
  {
   "cell_type": "markdown",
   "metadata": {},
   "source": [
    "**3. Given two strings, write a method to decide is one is a permutation of the other **"
   ]
  },
  {
   "cell_type": "code",
   "execution_count": 22,
   "metadata": {
    "collapsed": false
   },
   "outputs": [
    {
     "name": "stdout",
     "output_type": "stream",
     "text": [
      "True\n"
     ]
    }
   ],
   "source": [
    "def compute_counts(a_string):\n",
    "\tcounts = [None] * 128\n",
    "\tfor c in a_string:\n",
    "\t\tval = ord(c)\n",
    "\t\tif counts[val] == None:\n",
    "\t\t\tcounts[val] = 1\n",
    "\t\telse:\n",
    "\t\t\tcounts[val] += 1\n",
    "\treturn counts\n",
    "\n",
    "def compare_strings(a_string1, a_string2):\n",
    "\tcount1 = compute_counts(a_string1)\n",
    "\tcount2 = compute_counts(a_string2)\n",
    "\tstill_ok = True\n",
    "\tidx = 0\n",
    "\twhile still_ok and idx < len(count1):\n",
    "\t\tif count1[idx] != count2[idx]:\n",
    "\t\t\tstill_ok = False\n",
    "\t\telse:\n",
    "\t\t\tidx+=1\n",
    "\treturn still_ok\n",
    "\n",
    "a_string1 = 'python'\n",
    "a_string2 = 'nyphot'\n",
    "\n",
    "print compare_strings(a_string1, a_string2)\n"
   ]
  },
  {
   "cell_type": "markdown",
   "metadata": {},
   "source": [
    "**4. Write a method to replace all spaces in a string with '%20'. You may assume that the string has sufficient space at the end of the string to hold the additional characters, and that you are given the \"true\" length of the string.**"
   ]
  },
  {
   "cell_type": "code",
   "execution_count": 25,
   "metadata": {
    "collapsed": false
   },
   "outputs": [
    {
     "name": "stdout",
     "output_type": "stream",
     "text": [
      "\"Mr John Smith\"\n",
      "\"Mr%20John%20Smith\"\n"
     ]
    }
   ],
   "source": [
    "def replace_space(a_string):\n",
    "    replaced_string = ''\n",
    "    for char in a_string:\n",
    "        if char == ' ':\n",
    "            replaced_string = replaced_string + '%20'\n",
    "        else:\n",
    "            replaced_string = replaced_string + char\n",
    "    return replaced_string\n",
    "string = '\"Mr John Smith\"'\n",
    "print(string)\n",
    "print(replace_space(string))"
   ]
  },
  {
   "cell_type": "markdown",
   "metadata": {},
   "source": [
    "**5. Implement a method to perform basic string compression using the counts of \n",
    " repeated characters. For example, the string aabcccccaaa would become a2blc5a3.\n",
    " If the \"compressed\" string would not become smaller than the original string, \n",
    " your method should return the original string. **\n"
   ]
  },
  {
   "cell_type": "code",
   "execution_count": 34,
   "metadata": {
    "collapsed": false
   },
   "outputs": [
    {
     "name": "stdout",
     "output_type": "stream",
     "text": [
      "a2b1c5a3\n"
     ]
    }
   ],
   "source": [
    "a_string = 'aabcccccaaa'\n",
    "def compress_str(a_string):\n",
    "    counter = 1\n",
    "    prev = a_string[0]\n",
    "    compressed = ''\n",
    "    for idx in xrange(1, len(a_string)):\n",
    "        current = a_string[idx]\n",
    "        if current == prev: \n",
    "            counter+=1\n",
    "        else: \n",
    "            compressed = compressed + prev + str(counter)\n",
    "            counter = 1\n",
    "        prev = current\n",
    "    compressed = compressed + prev + str(counter)\n",
    "    if len(compressed)>len(a_string):\n",
    "        compressed = a_string\n",
    "    return compressed\n",
    "print compress_str(a_string)"
   ]
  },
  {
   "cell_type": "markdown",
   "metadata": {},
   "source": [
    "** 6. Given an image represented by an NxN matrix, where each pixel in the image is 4 bytes, write a method to rotate the image by 90 degrees. Can you do this in place? **"
   ]
  },
  {
   "cell_type": "code",
   "execution_count": 35,
   "metadata": {
    "collapsed": true
   },
   "outputs": [],
   "source": [
    "def rotate_matrix(matrix):\n",
    "\n",
    "\tN = len(matrix)\n",
    "\tn_layers = N // 2\n",
    "\n",
    "\tfor idx in xrange(n_layers+1):\n",
    "\t\tfor idx_range in range(idx, N-idx-1):\n",
    "\t\t\ttop = matrix[idx][idx_range]\n",
    "\t\t\tbottom = matrix[N-1-idx][N-1-idx_range]\n",
    "\n",
    "\t\t\tleft = matrix[N-1-idx_range][idx]\n",
    "\t\t\tright = matrix[idx_range][N-1-idx]\n",
    "\t\t\t# top, right, bottom, left = \\\n",
    "\t\t\t# \tleft, top, right, bottom\n",
    "\n",
    "\t\t\tmatrix[idx][idx_range], matrix[idx_range][N-1-idx], \\\n",
    "\t\t\tmatrix[N-1-idx][N-1-idx_range], matrix[N-1-idx_range][idx] = \\\n",
    "\t\t\tmatrix[N-1-idx_range][idx], matrix[idx][idx_range], \\\n",
    "\t\t\tmatrix[idx_range][N-1-idx], matrix[N-1-idx][N-1-idx_range]"
   ]
  },
  {
   "cell_type": "code",
   "execution_count": 36,
   "metadata": {
    "collapsed": false
   },
   "outputs": [
    {
     "name": "stdout",
     "output_type": "stream",
     "text": [
      "[[1, 2, 3, 4, 5], [6, 7, 8, 9, 10], [11, 12, 13, 14, 15], [16, 17, 18, 19, 20], [21, 22, 23, 24, 25]]\n",
      "[[21, 16, 11, 6, 1], [22, 17, 12, 7, 2], [23, 18, 13, 8, 3], [24, 19, 14, 9, 4], [25, 20, 15, 10, 5]]\n"
     ]
    }
   ],
   "source": [
    "matrix = [[1, 2, 3, 4, 5], \n",
    "\t\t  [6, 7, 8, 9, 10], \n",
    "\t\t  [11, 12, 13, 14, 15],\n",
    "\t\t  [16, 17, 18, 19, 20],\n",
    "\t\t  [21, 22, 23, 24, 25]\n",
    "\t\t]\n",
    "print matrix\n",
    "rotate_matrix(matrix)\n",
    "print matrix"
   ]
  },
  {
   "cell_type": "markdown",
   "metadata": {},
   "source": [
    "** 7. Write an algorithm such that if an element in an MxN matrix is 0, its entire row and column are set to 0. **"
   ]
  },
  {
   "cell_type": "code",
   "execution_count": 37,
   "metadata": {
    "collapsed": false
   },
   "outputs": [
    {
     "name": "stdout",
     "output_type": "stream",
     "text": [
      "[[1, 2, 3, 4, 5], [6, 7, 8, 9, 10], [11, 0, 13, 14, 15], [16, 17, 18, 19, 20], [21, 22, 23, 24, 0]]\n",
      "[[1, 0, 3, 4, 0], [6, 0, 8, 9, 0], [0, 0, 0, 0, 0], [16, 0, 18, 19, 0], [0, 0, 0, 0, 0]]\n"
     ]
    }
   ],
   "source": [
    "import copy\n",
    "matrix = [[1, 2, 3, 4, 5], \n",
    "\t\t  [6, 7, 8, 9, 10], \n",
    "\t\t  [11, 0, 13, 14, 15],\n",
    "\t\t  [16, 17, 18, 19, 20],\n",
    "\t\t  [21, 22, 23, 24, 0]\n",
    "\t\t]\n",
    "\n",
    "def set_zeros(matrix):\n",
    "\tM = len(matrix)\n",
    "\tN = len(matrix[0])\n",
    "\n",
    "\tnew_matrix = copy.deepcopy(matrix)\n",
    "\n",
    "\tfor m in range(M):\n",
    "\t\tfor n in range(N):\n",
    "\t\t\tif matrix[m][n] == 0:\n",
    "\t\t\t\tfor nn in range(N):\n",
    "\t\t\t\t\tnew_matrix[m][nn] = 0\n",
    "\t\t\t\tfor mm in range(M):\n",
    "\t\t\t\t\tnew_matrix[mm][n] = 0\n",
    "\treturn new_matrix\n",
    "\n",
    "print matrix\n",
    "print set_zeros(matrix)"
   ]
  },
  {
   "cell_type": "markdown",
   "metadata": {},
   "source": [
    "** 8. Assume you have a method is Substring which checks if one word is a \n",
    " substring ofanother. Given two strings,si and s2,write code to check If\n",
    " s2 is a rotation of si using only one call to is Substring \n",
    " (e.g.,\"waterbottLe\"is a rotation of\"erbottLewat\"). **"
   ]
  },
  {
   "cell_type": "code",
   "execution_count": 41,
   "metadata": {
    "collapsed": false
   },
   "outputs": [
    {
     "name": "stdout",
     "output_type": "stream",
     "text": [
      "True\n"
     ]
    }
   ],
   "source": [
    "s1 = 'waterbottle'\n",
    "s2 = 'erbottlewat'\n",
    "def is_rotation(s1, s2):\n",
    "    if len(s1) != len(s2): return False\n",
    "    s1s1 = s1 + s1\n",
    "    if s2 in s1s1: return True\n",
    "    else: return False\n",
    "print is_rotation(s1, s2)"
   ]
  },
  {
   "cell_type": "code",
   "execution_count": null,
   "metadata": {
    "collapsed": true
   },
   "outputs": [],
   "source": []
  }
 ],
 "metadata": {
  "kernelspec": {
   "display_name": "Python 2",
   "language": "python",
   "name": "python2"
  },
  "language_info": {
   "codemirror_mode": {
    "name": "ipython",
    "version": 2
   },
   "file_extension": ".py",
   "mimetype": "text/x-python",
   "name": "python",
   "nbconvert_exporter": "python",
   "pygments_lexer": "ipython2",
   "version": "2.7.9"
  }
 },
 "nbformat": 4,
 "nbformat_minor": 0
}

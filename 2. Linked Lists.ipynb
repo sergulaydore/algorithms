{
 "cells": [
  {
   "cell_type": "code",
   "execution_count": 81,
   "metadata": {
    "collapsed": true
   },
   "outputs": [],
   "source": [
    "class Node:\n",
    "    def __init__(self,item):\n",
    "        self.item = item\n",
    "        self.next = None\n",
    "class UnorderedList:\n",
    "    def __init__(self):\n",
    "        self.head = None\n",
    "    def add(self,item):\n",
    "        temp = Node(item)\n",
    "        temp.next = self.head\n",
    "        self.head = temp\n",
    "    def add_all(self, a_list):\n",
    "        for item in a_list:\n",
    "            self.add(item)\n",
    "    def pop(self):\n",
    "        removed = self.head.item\n",
    "        self.head = self.head.next\n",
    "        return removed\n",
    "    def __str__(self):\n",
    "\t\tstring = 'Linked List: '\n",
    "\t\tcurrent = self.head\n",
    "\t\twhile current != None:\n",
    "\t\t\tstring = string = \"{0} {1}\".format(string, current.item)\n",
    "\t\t\tcurrent = current.next\n",
    "\t\treturn string       "
   ]
  },
  {
   "cell_type": "code",
   "execution_count": 9,
   "metadata": {
    "collapsed": false
   },
   "outputs": [
    {
     "name": "stdout",
     "output_type": "stream",
     "text": [
      "Linked List:  9 8 7 5 10 4 2\n"
     ]
    }
   ],
   "source": [
    "my_list = [2, 4, 10, 5, 7, 8, 9]\n",
    "linked_list = UnorderedList()\n",
    "linked_list.add_all(my_list)\n",
    "print linked_list"
   ]
  },
  {
   "cell_type": "markdown",
   "metadata": {},
   "source": [
    "**1. Write a code to remove duplicates from an unsorted list. **"
   ]
  },
  {
   "cell_type": "code",
   "execution_count": 10,
   "metadata": {
    "collapsed": false
   },
   "outputs": [
    {
     "name": "stdout",
     "output_type": "stream",
     "text": [
      "Linked List:  9 8 5 7 5 10 4 2\n",
      "Linked List:  9 8 5 7 10 4 2\n"
     ]
    }
   ],
   "source": [
    "def remove_duplicates(my_list):\n",
    "    items = []\n",
    "    current_parent = None\n",
    "    current = my_list.head\n",
    "    while current != None:\n",
    "        item = current.item\n",
    "        if item in items:\n",
    "            current_parent.next = current.next\n",
    "        else:\n",
    "            items.append(item)\n",
    "        current_parent = current\n",
    "        current = current.next\n",
    "\n",
    "my_list = [2, 4, 10, 5, 7, 5,  8, 9]\n",
    "linked_list = UnorderedList()\n",
    "linked_list.add_all(my_list)\n",
    "print linked_list\n",
    "remove_duplicates(linked_list)\n",
    "print linked_list"
   ]
  },
  {
   "cell_type": "markdown",
   "metadata": {},
   "source": [
    "**2. Implement an algorithm to find the kth to last element of a singly linked list. **"
   ]
  },
  {
   "cell_type": "code",
   "execution_count": 13,
   "metadata": {
    "collapsed": false
   },
   "outputs": [
    {
     "name": "stdout",
     "output_type": "stream",
     "text": [
      "Linked List:  9 8 5 7 5 10 4 2\n",
      "10\n"
     ]
    }
   ],
   "source": [
    "def find_kth_to_last(linked_list, k):\n",
    "    fast_runner = linked_list.head\n",
    "    slow_runner = linked_list.head\n",
    "    for idx in range(k):\n",
    "        fast_runner = fast_runner.next\n",
    "    while fast_runner and slow_runner:\n",
    "        fast_runner = fast_runner.next\n",
    "        slow_runner = slow_runner.next\n",
    "    return slow_runner.item\n",
    "        \n",
    "my_list = [2, 4, 10, 5, 7, 5,  8, 9]\n",
    "linked_list = UnorderedList()\n",
    "linked_list.add_all(my_list)\n",
    "print linked_list  \n",
    "print find_kth_to_last(linked_list, 3)"
   ]
  },
  {
   "cell_type": "markdown",
   "metadata": {},
   "source": [
    "** 3. Implement an algorithm to delete a node in the middle of a singly linked list, given only access to that node. **"
   ]
  },
  {
   "cell_type": "code",
   "execution_count": 30,
   "metadata": {
    "collapsed": false
   },
   "outputs": [
    {
     "name": "stdout",
     "output_type": "stream",
     "text": [
      "Linked List:  9 8 6 5 4 7 10 4 2\n",
      "Middle item is:  4\n",
      "Linked List:  9 8 6 5 7 10 4 2\n"
     ]
    }
   ],
   "source": [
    "def delete_middle_node(linked_list):\n",
    "    parent = None\n",
    "    slow = linked_list.head\n",
    "    fast = linked_list.head\n",
    "    while slow and fast.next and fast.next.next:\n",
    "        parent = slow\n",
    "        slow = slow.next\n",
    "        fast = fast.next.next\n",
    "    middle = slow\n",
    "    print 'Middle item is: ', middle.item\n",
    "    parent.next = middle.next\n",
    "\n",
    "my_list = [2, 4, 10, 7, 4, 5, 6,  8, 9]\n",
    "linked_list = UnorderedList()\n",
    "linked_list.add_all(my_list)\n",
    "print linked_list \n",
    "delete_middle_node(linked_list)\n",
    "print linked_list "
   ]
  },
  {
   "cell_type": "markdown",
   "metadata": {},
   "source": [
    "** 4. Write a code to partition a linked list around a value x, such that all nodes less than x come before all nodes greater than or equal to x. **"
   ]
  },
  {
   "cell_type": "code",
   "execution_count": 58,
   "metadata": {
    "collapsed": false
   },
   "outputs": [
    {
     "name": "stdout",
     "output_type": "stream",
     "text": [
      "Linked List:  2 4 4 5 6 10 7 8 9\n"
     ]
    }
   ],
   "source": [
    "def partition_linked_list(linked_list, x):\n",
    "    before = UnorderedList()\n",
    "    after = UnorderedList()\n",
    "    current = linked_list.head\n",
    "    counter_before = 0\n",
    "    while current != None:\n",
    "        item = current.item\n",
    "        if item < x: \n",
    "            before.add(item)\n",
    "            if counter_before == 0:\n",
    "                tail = before.head\n",
    "            counter_before += 1\n",
    "        else: after.add(item)\n",
    "        current = current.next\n",
    "    tail.next = after.head\n",
    "    return before\n",
    "\n",
    "my_list = [2, 4, 10, 7, 4, 5, 6,  8, 9]\n",
    "x = 7\n",
    "linked_list = UnorderedList()\n",
    "linked_list.add_all(my_list)\n",
    "partitioned_list = partition_linked_list(linked_list, x)\n",
    "print partitioned_list"
   ]
  },
  {
   "cell_type": "markdown",
   "metadata": {},
   "source": [
    "**5. You have two numbers represented by a linked list, where each node contains \n",
    " a single digit. The digits are stored in reverse order, such that the \n",
    " 1st digit is at the head of the list. Write a function that adds the two \n",
    " numbers and returns the sum as a linked list.**"
   ]
  },
  {
   "cell_type": "code",
   "execution_count": 71,
   "metadata": {
    "collapsed": false
   },
   "outputs": [
    {
     "name": "stdout",
     "output_type": "stream",
     "text": [
      "Linked List:  1 9 2\n"
     ]
    }
   ],
   "source": [
    "def sum_lists(no1, no2):\n",
    "    no1 = (list(str(no1)))\n",
    "    no2 = (list(str(no2)))\n",
    "    no1_linked = UnorderedList(); no1_linked.add_all(no1)\n",
    "    no2_linked = UnorderedList(); no2_linked.add_all(no2)\n",
    "    sum_ = UnorderedList()\n",
    "    dig1 = no1_linked.head\n",
    "    dig2 = no2_linked.head\n",
    "    carry = 0\n",
    "    while dig1 and dig2:\n",
    "        add_value = ( int(dig1.item) + int(dig2.item) + carry) % 10\n",
    "        sum_.add(add_value)\n",
    "        carry = ( int(dig1.item) + int(dig2.item) ) // 10\n",
    "        dig1 = dig1.next\n",
    "        dig2 = dig2.next\n",
    "    while dig1 != None and dig2 is None:\n",
    "        add_value = ( int(dig1.item)  + carry )\n",
    "        sum_.add(add_value)\n",
    "        carry = 0\n",
    "        dig1 = dig1.next\n",
    "    while dig2 != None and dig1 is None:\n",
    "        add_value = ( int(dig2.item)  + carry )\n",
    "        sum_.add(add_value)\n",
    "        carry = 0\n",
    "        dig2 = dig2.next\n",
    "    if carry != 0: sum_.add(carry)\n",
    "    return sum_\n",
    "\n",
    "no1 = 145; no2 = 47\n",
    "sum_ = sum_lists(no1, no2)\n",
    "print sum_\n"
   ]
  },
  {
   "cell_type": "markdown",
   "metadata": {},
   "source": [
    "** 6. Given a circular linked list, implement an algorithm which returns the node at the beginning of the loop. **"
   ]
  },
  {
   "cell_type": "code",
   "execution_count": 72,
   "metadata": {
    "collapsed": false
   },
   "outputs": [],
   "source": [
    "linked_list.head = Node(1)\n",
    "linked_list.head.next = Node(2)\n",
    "linked_list.head.next.next = Node(3)\n",
    "linked_list.head.next.next.next = Node(4)\n",
    "linked_list.head.next.next.next.next = Node(5)\n",
    "linked_list.head.next.next.next.next.next = Node(6)\n",
    "linked_list.head.next.next.next.next.next.next = Node(7)\n",
    "linked_list.head.next.next.next.next.next.next.next = linked_list.head.next.next"
   ]
  },
  {
   "cell_type": "code",
   "execution_count": 74,
   "metadata": {
    "collapsed": false
   },
   "outputs": [
    {
     "name": "stdout",
     "output_type": "stream",
     "text": [
      " Length of the loop is:  5\n",
      "Start of the loop is:  3\n"
     ]
    }
   ],
   "source": [
    "# Use two pointers again: fast_runner and slow_runner. After the firat meet, \n",
    "# the number of steps required to meet again is equal to the length of the loop.\n",
    "# Assume the slow runner is at the start of the loop. It takes loop_size -  2 steps\n",
    "# for the first meet. If slow_runner takes two extra steps, it will reach the start\n",
    "# of the loop.\n",
    "current = linked_list.head\n",
    "slow_runner = current\n",
    "fast_runner = current\n",
    "found = False; first_meet = False\n",
    "steps = 0\n",
    "while fast_runner.next != None and fast_runner.next.next != None and not found:\n",
    "    slow_runner = slow_runner.next\n",
    "    fast_runner = fast_runner.next.next\n",
    "    if first_meet == True:\n",
    "        steps += 1\n",
    "    if slow_runner == fast_runner:\n",
    "        if first_meet == False:\n",
    "            first_meet_node = slow_runner\n",
    "            first_meet = True\n",
    "        else:\n",
    "            print 'Length of the loop is: ', steps\n",
    "            found = True\n",
    "print 'Start of the loop is: ', first_meet_node.next.next.item"
   ]
  },
  {
   "cell_type": "markdown",
   "metadata": {},
   "source": [
    "**7. Implement a function to check if a linked list is a palindrome. **"
   ]
  },
  {
   "cell_type": "code",
   "execution_count": 89,
   "metadata": {
    "collapsed": false
   },
   "outputs": [
    {
     "name": "stdout",
     "output_type": "stream",
     "text": [
      "Linked List:  r a c e c a r\n",
      "True\n"
     ]
    }
   ],
   "source": [
    "def is_palindrome(linked_list):\n",
    "    fast = linked_list.head\n",
    "    slow = linked_list.head\n",
    "    my_stack = UnorderedList()\n",
    "    # Push elements from first half of linked list onto stack. When fast runner reaches the end of the linked list\n",
    "    # then we know we're at the middle.\n",
    "    while fast and fast.next:\n",
    "        my_stack.add(slow.item)\n",
    "        slow = slow.next\n",
    "        fast = fast.next.next\n",
    "    \n",
    "    # has odd number of elements, so skip the middle element\n",
    "    if fast:\n",
    "        slow = slow.next\n",
    "    while slow:\n",
    "        top = my_stack.pop()\n",
    "        if top != slow.item:\n",
    "            return False\n",
    "        slow = slow.next\n",
    "    return True\n",
    "my_list = 'racecar'\n",
    "linked_list = UnorderedList()\n",
    "linked_list.add_all(my_list)\n",
    "print linked_list\n",
    "print is_palindrome(linked_list)"
   ]
  }
 ],
 "metadata": {
  "kernelspec": {
   "display_name": "Python 2",
   "language": "python",
   "name": "python2"
  },
  "language_info": {
   "codemirror_mode": {
    "name": "ipython",
    "version": 2
   },
   "file_extension": ".py",
   "mimetype": "text/x-python",
   "name": "python",
   "nbconvert_exporter": "python",
   "pygments_lexer": "ipython2",
   "version": "2.7.9"
  }
 },
 "nbformat": 4,
 "nbformat_minor": 0
}

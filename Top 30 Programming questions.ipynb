{
 "cells": [
  {
   "cell_type": "markdown",
   "metadata": {},
   "source": [
    "# Q1. Write code to check a String is palindrome or not?"
   ]
  },
  {
   "cell_type": "code",
   "execution_count": 1,
   "metadata": {
    "collapsed": false
   },
   "outputs": [
    {
     "name": "stdout",
     "output_type": "stream",
     "text": [
      "True\n"
     ]
    }
   ],
   "source": [
    "from collections import deque\n",
    "\n",
    "a_string = 'radar'\n",
    "my_deque = deque(a_string)\n",
    "\n",
    "still_true = True\n",
    "while my_deque.maxlen > 1 and still_true:\n",
    "\tfront = my_deque.popleft(),\n",
    "\trear = my_deque.pop()\n",
    "\tif front != rear:\n",
    "\t\tstill_true = False\n",
    "\n",
    "print still_true"
   ]
  },
  {
   "cell_type": "markdown",
   "metadata": {},
   "source": [
    "# Q2. Write a method which will remove any given character from a String?"
   ]
  },
  {
   "cell_type": "code",
   "execution_count": 2,
   "metadata": {
    "collapsed": false
   },
   "outputs": [
    {
     "name": "stdout",
     "output_type": "stream",
     "text": [
      "raar\n"
     ]
    }
   ],
   "source": [
    "a_string = 'radar'\n",
    "char = 'd'\n",
    "\n",
    "found = False\n",
    "counter = 0\n",
    "while not found and counter < len(a_string):\n",
    "\tif a_string[counter] == char:\n",
    "\t\tfound = True\n",
    "\telse:\n",
    "\t\tcounter += 1\n",
    "\n",
    "a_string = a_string[:counter] + a_string[counter+1:]\n",
    "print a_string"
   ]
  },
  {
   "cell_type": "markdown",
   "metadata": {},
   "source": [
    "# Q3. Print all permutation of String both iterative and Recursive way? "
   ]
  },
  {
   "cell_type": "code",
   "execution_count": 49,
   "metadata": {
    "collapsed": false
   },
   "outputs": [
    {
     "name": "stdout",
     "output_type": "stream",
     "text": [
      "abcd\n",
      "acdb\n",
      "adbc\n",
      "bacd\n",
      "bcda\n",
      "bdac\n",
      "cabd\n",
      "cbda\n",
      "cdab\n",
      "dabc\n",
      "dbca\n",
      "dcab\n"
     ]
    }
   ],
   "source": [
    "a_string = 'abcd'\n",
    "\n",
    "def print_permutation_iter(a_string):\n",
    "    for idx in xrange(len(a_string)):\n",
    "        current_char = a_string[idx]\n",
    "        rest = a_string[:idx] + a_string[idx+1:]\n",
    "\n",
    "        for idx2 in xrange(len(a_string)-1):\n",
    "            permutation = current_char + rest[idx2:] + rest[:idx2]\n",
    "            print permutation\n",
    "            \n",
    "print_permutation_iter(a_string)"
   ]
  },
  {
   "cell_type": "code",
   "execution_count": 69,
   "metadata": {
    "collapsed": false
   },
   "outputs": [
    {
     "name": "stdout",
     "output_type": "stream",
     "text": [
      "['abcd', 'abdc', 'acbd', 'acdb', 'adbc', 'adcb', 'bacd', 'badc', 'bcad', 'bcda', 'bdac', 'bdca', 'cabd', 'cadb', 'cbad', 'cbda', 'cdab', 'cdba', 'dabc', 'dacb', 'dbac', 'dbca', 'dcab', 'dcba']\n"
     ]
    }
   ],
   "source": [
    "a_string = 'abcd'\n",
    "\n",
    "def permutation_string_recur(a_string):\n",
    "    if len(a_string) == 1:\n",
    "        return [a_string]\n",
    "    else:\n",
    "        p_list = []\n",
    "        for idx in xrange(len(a_string)):\n",
    "            current_char = a_string[idx]\n",
    "            rest = a_string[:idx] + a_string[idx+1:]\n",
    "            permutations_rest = permutation_string_recur(rest)\n",
    "            for perm in permutations_rest:\n",
    "                permutation = current_char + perm\n",
    "                p_list.append(permutation)\n",
    "        return p_list\n",
    "print permutation_string_recur(a_string)"
   ]
  },
  {
   "cell_type": "markdown",
   "metadata": {},
   "source": [
    "# Q4. Write a function to find out longest palindrome in a given string? "
   ]
  },
  {
   "cell_type": "code",
   "execution_count": 98,
   "metadata": {
    "collapsed": false
   },
   "outputs": [
    {
     "name": "stdout",
     "output_type": "stream",
     "text": [
      "[0, 1, 0, 1, 0, 5, 0, 1, 0, 1, 0, 1, 2]\n"
     ]
    }
   ],
   "source": [
    "# Check for http://www.akalin.cx/longest-palindrome-linear-time for O(n). This is O(n2) \n",
    "# because 2n-1 centers and each takes O(n)\n",
    "a_string = 'radarxx'\n",
    "\n",
    "def longest_palindrom(a_string):\n",
    "    L = len(a_string)\n",
    "    number_of_centers = 2*L - 1\n",
    "    length_pal_vector = []\n",
    "\n",
    "    for c in xrange(number_of_centers):\n",
    "        start = c // 2\n",
    "        end = start + c % 2\n",
    "        while start > 0 and end < L and a_string[start-1] == a_string[end]:\n",
    "            start -= 1\n",
    "            end += 1\n",
    "        length_pal_vector.append(end-start)\n",
    "    return length_pal_vector\n",
    "print longest_palindrom(a_string)"
   ]
  },
  {
   "cell_type": "code",
   "execution_count": 95,
   "metadata": {
    "collapsed": false
   },
   "outputs": [
    {
     "data": {
      "text/plain": [
       "[0, 1, 0, 1, 0, 5, 0, 1, 0, 1, 0, 1, 2]"
      ]
     },
     "execution_count": 95,
     "metadata": {},
     "output_type": "execute_result"
    }
   ],
   "source": [
    "length_pal_vector"
   ]
  },
  {
   "cell_type": "markdown",
   "metadata": {},
   "source": [
    "# Q5. How to find first non repeated character of a given String?"
   ]
  },
  {
   "cell_type": "code",
   "execution_count": 152,
   "metadata": {
    "collapsed": false
   },
   "outputs": [
    {
     "name": "stdout",
     "output_type": "stream",
     "text": [
      "y\n"
     ]
    }
   ],
   "source": [
    "a_string = 'sstytgzg'\n",
    "def first_non_rep_char(a_string):\n",
    "    my_dict = dict()\n",
    "    first_non_repeated = ''\n",
    "    for char in a_string:\n",
    "        if char not in my_dict:\n",
    "            my_dict[char] = 1\n",
    "        else:\n",
    "            my_dict[char] += 1\n",
    "\n",
    "    for char in a_string:\n",
    "        if my_dict[char] == 1:\n",
    "            break\n",
    "        char = 'Not found'\n",
    "    return char\n",
    "print first_non_rep_char(a_string)"
   ]
  },
  {
   "cell_type": "markdown",
   "metadata": {
    "collapsed": true
   },
   "source": [
    "# Q6. How to count occurrence of a given character in a String?"
   ]
  },
  {
   "cell_type": "code",
   "execution_count": 2,
   "metadata": {
    "collapsed": false
   },
   "outputs": [
    {
     "name": "stdout",
     "output_type": "stream",
     "text": [
      "2\n"
     ]
    }
   ],
   "source": [
    "a_string = 'sstytgzg'\n",
    "char = 's'\n",
    "\n",
    "def count_occurence(a_string, char):\n",
    "    count = 0\n",
    "    for c in a_string:\n",
    "        if c == char:\n",
    "            count += 1\n",
    "    return count\n",
    "print count_occurence(a_string, char)"
   ]
  },
  {
   "cell_type": "markdown",
   "metadata": {},
   "source": [
    "# Q7. How to check if two String are Anagram?"
   ]
  },
  {
   "cell_type": "code",
   "execution_count": 7,
   "metadata": {
    "collapsed": false
   },
   "outputs": [
    {
     "name": "stdout",
     "output_type": "stream",
     "text": [
      "True\n"
     ]
    }
   ],
   "source": [
    "# There are 4 different ways: 1. Check off, 2. Sort and compare 3. Brute force 4. Count and compare. \n",
    "# I will use the fourth method.\n",
    "string1 = 'python'\n",
    "string2 = 'yonhtp'\n",
    "\n",
    "def is_anagram(string1, string2):\n",
    "    dict1 = dict()\n",
    "    dict2 = dict()\n",
    "\n",
    "    for c1 in string1:\n",
    "        if c1 not in dict1:\n",
    "            dict1[c1] = 1\n",
    "        else:\n",
    "            dict1[c1] += 1\n",
    "\n",
    "    for c2 in string1:\n",
    "        if c2 not in dict2:\n",
    "            dict2[c2] = 1\n",
    "        else:\n",
    "            dict2[c2] += 1\n",
    "\n",
    "    return dict1 == dict2\n",
    "\n",
    "print is_anagram(string1, string2)"
   ]
  },
  {
   "cell_type": "markdown",
   "metadata": {},
   "source": [
    "# Q8.How to convert numeric String to int"
   ]
  },
  {
   "cell_type": "code",
   "execution_count": 13,
   "metadata": {
    "collapsed": false
   },
   "outputs": [
    {
     "name": "stdout",
     "output_type": "stream",
     "text": [
      "132\n"
     ]
    }
   ],
   "source": [
    "a_string = '132'\n",
    "dict_1_to_9 = {'0':0, '1':1, '2':2, '3': 3, '4': 4,\n",
    "              '5':5, '6':6, '7':7, '8':8, '9':9}\n",
    "def to_int(a_string):\n",
    "    if len(a_string) == 1:\n",
    "        return dict_1_to_9[a_string]\n",
    "    else:\n",
    "        return (10 ** (len(a_string)-1))*dict_1_to_9[a_string[0]] + to_int(a_string[1:])\n",
    "    \n",
    "print to_int(a_string)"
   ]
  },
  {
   "cell_type": "markdown",
   "metadata": {},
   "source": [
    "# Q9. In an array 1-100 numbers are stored, one number is missing how do you find it?"
   ]
  },
  {
   "cell_type": "code",
   "execution_count": 27,
   "metadata": {
    "collapsed": false
   },
   "outputs": [
    {
     "name": "stdout",
     "output_type": "stream",
     "text": [
      "9\n"
     ]
    }
   ],
   "source": [
    "N = 100\n",
    "my_array = range(1,N+1)\n",
    "my_array[8] = 0\n",
    "ideal_sum = N * (N + 1) / 2\n",
    "real_sum = sum(my_array)\n",
    "missing_number = ideal_sum - real_sum\n",
    "print missing_number"
   ]
  },
  {
   "cell_type": "code",
   "execution_count": 23,
   "metadata": {
    "collapsed": false
   },
   "outputs": [
    {
     "data": {
      "text/plain": [
       "10.0"
      ]
     },
     "execution_count": 23,
     "metadata": {},
     "output_type": "execute_result"
    }
   ],
   "source": [
    "ideal_sum"
   ]
  },
  {
   "cell_type": "code",
   "execution_count": 24,
   "metadata": {
    "collapsed": false
   },
   "outputs": [
    {
     "data": {
      "text/plain": [
       "6"
      ]
     },
     "execution_count": 24,
     "metadata": {},
     "output_type": "execute_result"
    }
   ],
   "source": [
    "real_sum"
   ]
  },
  {
   "cell_type": "markdown",
   "metadata": {},
   "source": [
    "# Q10. In an array 1-100 exactly one number is duplicate how do you find it? "
   ]
  },
  {
   "cell_type": "code",
   "execution_count": 49,
   "metadata": {
    "collapsed": false
   },
   "outputs": [
    {
     "name": "stdout",
     "output_type": "stream",
     "text": [
      "5\n"
     ]
    }
   ],
   "source": [
    "# Use the formula of sum of squares and arithmetic sum.\n",
    "N = 5\n",
    "my_array = range(1,N+1)\n",
    "my_array[1] = 5\n",
    "ideal_sum = N * (N + 1) / 2\n",
    "real_sum = sum(my_array)\n",
    "ideal_sum_square = N * (N + 1) * (2 * N + 1) / 6\n",
    "real_sum_square = sum([n ** 2 for n in my_array])\n",
    "diff = ideal_sum - real_sum\n",
    "diff_squares = ideal_sum_square - real_sum_square\n",
    "missing = (real_sum_square - ideal_sum_square)/ (2 *(ideal_sum -  real_sum ) ** 2) - 1/ (2 * (ideal_sum -  real_sum ))\n",
    "duplicate = missing + real_sum - ideal_sum\n",
    "print duplicate"
   ]
  },
  {
   "cell_type": "markdown",
   "metadata": {
    "collapsed": true
   },
   "source": [
    "# Q11. In an array 1-100 multiple numbers are duplicates, how do you find it? "
   ]
  },
  {
   "cell_type": "code",
   "execution_count": 7,
   "metadata": {
    "collapsed": false
   },
   "outputs": [
    {
     "name": "stdout",
     "output_type": "stream",
     "text": [
      "3\n",
      "5\n"
     ]
    }
   ],
   "source": [
    "N = 10\n",
    "my_array = [1, 2, 3, 3, 4, 5, 6, 5, 5, 9]\n",
    "d = dict()\n",
    "for n in my_array:\n",
    "    if n not in d:\n",
    "        d[n] = 1\n",
    "    else:\n",
    "        d[n] += 1\n",
    "        \n",
    "for key, value in d.iteritems():\n",
    "    if value > 1:\n",
    "        print key"
   ]
  },
  {
   "cell_type": "markdown",
   "metadata": {},
   "source": [
    "# Q12. Given two arrays, 1,2,3,4,5 and 2,3,1,0,5 find which number is not present in the second array."
   ]
  },
  {
   "cell_type": "code",
   "execution_count": 8,
   "metadata": {
    "collapsed": false
   },
   "outputs": [
    {
     "name": "stdout",
     "output_type": "stream",
     "text": [
      "4\n"
     ]
    }
   ],
   "source": [
    "array1 = [1, 2, 3, 4, 5]\n",
    "array2 = [2, 3, 1, 0, 5]\n",
    "hashmap = dict()\n",
    "for n in array2:\n",
    "    if n not in hashmap:\n",
    "        hashmap[n] = 1\n",
    "    else:\n",
    "        hashmap[n] += 1\n",
    "        \n",
    "for n in array1:\n",
    "    if n not in hashmap:\n",
    "        print n"
   ]
  },
  {
   "cell_type": "markdown",
   "metadata": {},
   "source": [
    "# Q13. How do you find second highest number in an integer array?"
   ]
  },
  {
   "cell_type": "code",
   "execution_count": 20,
   "metadata": {
    "collapsed": false
   },
   "outputs": [
    {
     "name": "stdout",
     "output_type": "stream",
     "text": [
      "largest number is:  2147483647 and second largest number is:  92\n"
     ]
    }
   ],
   "source": [
    "my_array = [20, 34, 21, 87, 92, 2147483647]\n",
    "max1 = 0; max2 = 0;\n",
    "for n in my_array:\n",
    "    if n>max1 and n>max2:\n",
    "        max2 = max1\n",
    "        max1 = n\n",
    "    elif n>max2 and n<max1:\n",
    "        max2 = n\n",
    "print 'largest number is: ', max1, 'and second largest number is: ',max2"
   ]
  },
  {
   "cell_type": "markdown",
   "metadata": {},
   "source": [
    "# Q14. How to find all pairs in array of integers whose sum is equal to given number?"
   ]
  },
  {
   "cell_type": "code",
   "execution_count": 26,
   "metadata": {
    "collapsed": false
   },
   "outputs": [
    {
     "name": "stdout",
     "output_type": "stream",
     "text": [
      "(7, 4)\n",
      "(8, 3)\n",
      "(9, 2)\n"
     ]
    }
   ],
   "source": [
    "my_array = [2, 4, 3, 5, 7, 8, 9]\n",
    "hashSet = set(my_array)\n",
    "k = 11\n",
    "for n in my_array:\n",
    "    if n>k/2 and k-n in hashSet:\n",
    "        print (n, k-n)"
   ]
  },
  {
   "cell_type": "markdown",
   "metadata": {},
   "source": [
    "# Q15. How to remove duplicate elements from array in Java?"
   ]
  },
  {
   "cell_type": "code",
   "execution_count": 27,
   "metadata": {
    "collapsed": false
   },
   "outputs": [
    {
     "name": "stdout",
     "output_type": "stream",
     "text": [
      "[2, 4, 3, 5, 8]\n"
     ]
    }
   ],
   "source": [
    "my_array = [2, 4, 3, 5, 5, 8, 4]\n",
    "seen = set()\n",
    "my_array_no_dup = []\n",
    "for n in my_array:\n",
    "    if n not in seen:\n",
    "        seen.add(n)\n",
    "        my_array_no_dup.append(n)\n",
    "print my_array_no_dup\n"
   ]
  },
  {
   "cell_type": "code",
   "execution_count": null,
   "metadata": {
    "collapsed": true
   },
   "outputs": [],
   "source": []
  }
 ],
 "metadata": {
  "kernelspec": {
   "display_name": "Python 2",
   "language": "python",
   "name": "python2"
  },
  "language_info": {
   "codemirror_mode": {
    "name": "ipython",
    "version": 2
   },
   "file_extension": ".py",
   "mimetype": "text/x-python",
   "name": "python",
   "nbconvert_exporter": "python",
   "pygments_lexer": "ipython2",
   "version": "2.7.9"
  }
 },
 "nbformat": 4,
 "nbformat_minor": 0
}

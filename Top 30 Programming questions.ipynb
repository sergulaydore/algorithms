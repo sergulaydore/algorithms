{
 "cells": [
  {
   "cell_type": "markdown",
   "metadata": {},
   "source": [
    "# Q1. Write code to check a String is palindrome or not?"
   ]
  },
  {
   "cell_type": "code",
   "execution_count": 1,
   "metadata": {
    "collapsed": false
   },
   "outputs": [
    {
     "name": "stdout",
     "output_type": "stream",
     "text": [
      "True\n"
     ]
    }
   ],
   "source": [
    "from collections import deque\n",
    "\n",
    "a_string = 'radar'\n",
    "my_deque = deque(a_string)\n",
    "\n",
    "still_true = True\n",
    "while my_deque.maxlen > 1 and still_true:\n",
    "\tfront = my_deque.popleft(),\n",
    "\trear = my_deque.pop()\n",
    "\tif front != rear:\n",
    "\t\tstill_true = False\n",
    "\n",
    "print still_true"
   ]
  },
  {
   "cell_type": "markdown",
   "metadata": {},
   "source": [
    "# Q2. Write a method which will remove any given character from a String?"
   ]
  },
  {
   "cell_type": "code",
   "execution_count": 2,
   "metadata": {
    "collapsed": false
   },
   "outputs": [
    {
     "name": "stdout",
     "output_type": "stream",
     "text": [
      "raar\n"
     ]
    }
   ],
   "source": [
    "a_string = 'radar'\n",
    "char = 'd'\n",
    "\n",
    "found = False\n",
    "counter = 0\n",
    "while not found and counter < len(a_string):\n",
    "\tif a_string[counter] == char:\n",
    "\t\tfound = True\n",
    "\telse:\n",
    "\t\tcounter += 1\n",
    "\n",
    "a_string = a_string[:counter] + a_string[counter+1:]\n",
    "print a_string"
   ]
  },
  {
   "cell_type": "markdown",
   "metadata": {},
   "source": [
    "# Q3. Print all permutation of String both iterative and Recursive way? "
   ]
  },
  {
   "cell_type": "code",
   "execution_count": 49,
   "metadata": {
    "collapsed": false
   },
   "outputs": [
    {
     "name": "stdout",
     "output_type": "stream",
     "text": [
      "abcd\n",
      "acdb\n",
      "adbc\n",
      "bacd\n",
      "bcda\n",
      "bdac\n",
      "cabd\n",
      "cbda\n",
      "cdab\n",
      "dabc\n",
      "dbca\n",
      "dcab\n"
     ]
    }
   ],
   "source": [
    "a_string = 'abcd'\n",
    "\n",
    "def print_permutation_iter(a_string):\n",
    "    for idx in xrange(len(a_string)):\n",
    "        current_char = a_string[idx]\n",
    "        rest = a_string[:idx] + a_string[idx+1:]\n",
    "\n",
    "        for idx2 in xrange(len(a_string)-1):\n",
    "            permutation = current_char + rest[idx2:] + rest[:idx2]\n",
    "            print permutation\n",
    "            \n",
    "print_permutation_iter(a_string)"
   ]
  },
  {
   "cell_type": "code",
   "execution_count": 69,
   "metadata": {
    "collapsed": false
   },
   "outputs": [
    {
     "name": "stdout",
     "output_type": "stream",
     "text": [
      "['abcd', 'abdc', 'acbd', 'acdb', 'adbc', 'adcb', 'bacd', 'badc', 'bcad', 'bcda', 'bdac', 'bdca', 'cabd', 'cadb', 'cbad', 'cbda', 'cdab', 'cdba', 'dabc', 'dacb', 'dbac', 'dbca', 'dcab', 'dcba']\n"
     ]
    }
   ],
   "source": [
    "a_string = 'abcd'\n",
    "\n",
    "def permutation_string_recur(a_string):\n",
    "    if len(a_string) == 1:\n",
    "        return [a_string]\n",
    "    else:\n",
    "        p_list = []\n",
    "        for idx in xrange(len(a_string)):\n",
    "            current_char = a_string[idx]\n",
    "            rest = a_string[:idx] + a_string[idx+1:]\n",
    "            permutations_rest = permutation_string_recur(rest)\n",
    "            for perm in permutations_rest:\n",
    "                permutation = current_char + perm\n",
    "                p_list.append(permutation)\n",
    "        return p_list\n",
    "print permutation_string_recur(a_string)"
   ]
  },
  {
   "cell_type": "markdown",
   "metadata": {},
   "source": [
    "# Q4. Write a function to find out longest palindrome in a given string? "
   ]
  },
  {
   "cell_type": "code",
   "execution_count": 98,
   "metadata": {
    "collapsed": false
   },
   "outputs": [
    {
     "name": "stdout",
     "output_type": "stream",
     "text": [
      "[0, 1, 0, 1, 0, 5, 0, 1, 0, 1, 0, 1, 2]\n"
     ]
    }
   ],
   "source": [
    "# Check for http://www.akalin.cx/longest-palindrome-linear-time for O(n). This is O(n2) \n",
    "# because 2n-1 centers and each takes O(n)\n",
    "a_string = 'radarxx'\n",
    "\n",
    "def longest_palindrom(a_string):\n",
    "    L = len(a_string)\n",
    "    number_of_centers = 2*L - 1\n",
    "    length_pal_vector = []\n",
    "\n",
    "    for c in xrange(number_of_centers):\n",
    "        start = c // 2\n",
    "        end = start + c % 2\n",
    "        while start > 0 and end < L and a_string[start-1] == a_string[end]:\n",
    "            start -= 1\n",
    "            end += 1\n",
    "        length_pal_vector.append(end-start)\n",
    "    return length_pal_vector\n",
    "print longest_palindrom(a_string)"
   ]
  },
  {
   "cell_type": "code",
   "execution_count": 95,
   "metadata": {
    "collapsed": false
   },
   "outputs": [
    {
     "data": {
      "text/plain": [
       "[0, 1, 0, 1, 0, 5, 0, 1, 0, 1, 0, 1, 2]"
      ]
     },
     "execution_count": 95,
     "metadata": {},
     "output_type": "execute_result"
    }
   ],
   "source": [
    "length_pal_vector"
   ]
  },
  {
   "cell_type": "markdown",
   "metadata": {},
   "source": [
    "# Q5. How to find first non repeated character of a given String?"
   ]
  },
  {
   "cell_type": "code",
   "execution_count": 152,
   "metadata": {
    "collapsed": false
   },
   "outputs": [
    {
     "name": "stdout",
     "output_type": "stream",
     "text": [
      "y\n"
     ]
    }
   ],
   "source": [
    "a_string = 'sstytgzg'\n",
    "def first_non_rep_char(a_string):\n",
    "    my_dict = dict()\n",
    "    first_non_repeated = ''\n",
    "    for char in a_string:\n",
    "        if char not in my_dict:\n",
    "            my_dict[char] = 1\n",
    "        else:\n",
    "            my_dict[char] += 1\n",
    "\n",
    "    for char in a_string:\n",
    "        if my_dict[char] == 1:\n",
    "            break\n",
    "        char = 'Not found'\n",
    "    return char\n",
    "print first_non_rep_char(a_string)"
   ]
  },
  {
   "cell_type": "code",
   "execution_count": null,
   "metadata": {
    "collapsed": true
   },
   "outputs": [],
   "source": []
  }
 ],
 "metadata": {
  "kernelspec": {
   "display_name": "Python 2",
   "language": "python",
   "name": "python2"
  },
  "language_info": {
   "codemirror_mode": {
    "name": "ipython",
    "version": 2
   },
   "file_extension": ".py",
   "mimetype": "text/x-python",
   "name": "python",
   "nbconvert_exporter": "python",
   "pygments_lexer": "ipython2",
   "version": "2.7.9"
  }
 },
 "nbformat": 4,
 "nbformat_minor": 0
}

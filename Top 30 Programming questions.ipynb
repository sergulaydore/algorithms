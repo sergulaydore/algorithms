{
 "cells": [
  {
   "cell_type": "markdown",
   "metadata": {},
   "source": [
    "# Q1. Write code to check a String is palindrome or not?"
   ]
  },
  {
   "cell_type": "code",
   "execution_count": 1,
   "metadata": {
    "collapsed": false
   },
   "outputs": [
    {
     "name": "stdout",
     "output_type": "stream",
     "text": [
      "True\n"
     ]
    }
   ],
   "source": [
    "from collections import deque\n",
    "\n",
    "a_string = 'radar'\n",
    "my_deque = deque(a_string)\n",
    "\n",
    "still_true = True\n",
    "while my_deque.maxlen > 1 and still_true:\n",
    "\tfront = my_deque.popleft(),\n",
    "\trear = my_deque.pop()\n",
    "\tif front != rear:\n",
    "\t\tstill_true = False\n",
    "\n",
    "print still_true"
   ]
  },
  {
   "cell_type": "markdown",
   "metadata": {},
   "source": [
    "# Q2. Write a method which will remove any given character from a String?"
   ]
  },
  {
   "cell_type": "code",
   "execution_count": 2,
   "metadata": {
    "collapsed": false
   },
   "outputs": [
    {
     "name": "stdout",
     "output_type": "stream",
     "text": [
      "raar\n"
     ]
    }
   ],
   "source": [
    "a_string = 'radar'\n",
    "char = 'd'\n",
    "\n",
    "found = False\n",
    "counter = 0\n",
    "while not found and counter < len(a_string):\n",
    "\tif a_string[counter] == char:\n",
    "\t\tfound = True\n",
    "\telse:\n",
    "\t\tcounter += 1\n",
    "\n",
    "a_string = a_string[:counter] + a_string[counter+1:]\n",
    "print a_string"
   ]
  },
  {
   "cell_type": "markdown",
   "metadata": {},
   "source": [
    "# Q3. Print all permutation of String both iterative and Recursive way? "
   ]
  },
  {
   "cell_type": "code",
   "execution_count": 49,
   "metadata": {
    "collapsed": false
   },
   "outputs": [
    {
     "name": "stdout",
     "output_type": "stream",
     "text": [
      "abcd\n",
      "acdb\n",
      "adbc\n",
      "bacd\n",
      "bcda\n",
      "bdac\n",
      "cabd\n",
      "cbda\n",
      "cdab\n",
      "dabc\n",
      "dbca\n",
      "dcab\n"
     ]
    }
   ],
   "source": [
    "a_string = 'abcd'\n",
    "\n",
    "def print_permutation_iter(a_string):\n",
    "    for idx in xrange(len(a_string)):\n",
    "        current_char = a_string[idx]\n",
    "        rest = a_string[:idx] + a_string[idx+1:]\n",
    "\n",
    "        for idx2 in xrange(len(a_string)-1):\n",
    "            permutation = current_char + rest[idx2:] + rest[:idx2]\n",
    "            print permutation\n",
    "            \n",
    "print_permutation_iter(a_string)"
   ]
  },
  {
   "cell_type": "code",
   "execution_count": 69,
   "metadata": {
    "collapsed": false
   },
   "outputs": [
    {
     "name": "stdout",
     "output_type": "stream",
     "text": [
      "['abcd', 'abdc', 'acbd', 'acdb', 'adbc', 'adcb', 'bacd', 'badc', 'bcad', 'bcda', 'bdac', 'bdca', 'cabd', 'cadb', 'cbad', 'cbda', 'cdab', 'cdba', 'dabc', 'dacb', 'dbac', 'dbca', 'dcab', 'dcba']\n"
     ]
    }
   ],
   "source": [
    "a_string = 'abcd'\n",
    "\n",
    "def permutation_string_recur(a_string):\n",
    "    if len(a_string) == 1:\n",
    "        return [a_string]\n",
    "    else:\n",
    "        p_list = []\n",
    "        for idx in xrange(len(a_string)):\n",
    "            current_char = a_string[idx]\n",
    "            rest = a_string[:idx] + a_string[idx+1:]\n",
    "            permutations_rest = permutation_string_recur(rest)\n",
    "            for perm in permutations_rest:\n",
    "                permutation = current_char + perm\n",
    "                p_list.append(permutation)\n",
    "        return p_list\n",
    "print permutation_string_recur(a_string)"
   ]
  },
  {
   "cell_type": "markdown",
   "metadata": {},
   "source": [
    "# Q4. Write a function to find out longest palindrome in a given string? "
   ]
  },
  {
   "cell_type": "code",
   "execution_count": 98,
   "metadata": {
    "collapsed": false
   },
   "outputs": [
    {
     "name": "stdout",
     "output_type": "stream",
     "text": [
      "[0, 1, 0, 1, 0, 5, 0, 1, 0, 1, 0, 1, 2]\n"
     ]
    }
   ],
   "source": [
    "# Check for http://www.akalin.cx/longest-palindrome-linear-time for O(n). This is O(n2) \n",
    "# because 2n-1 centers and each takes O(n)\n",
    "a_string = 'radarxx'\n",
    "\n",
    "def longest_palindrom(a_string):\n",
    "    L = len(a_string)\n",
    "    number_of_centers = 2*L - 1\n",
    "    length_pal_vector = []\n",
    "\n",
    "    for c in xrange(number_of_centers):\n",
    "        start = c // 2\n",
    "        end = start + c % 2\n",
    "        while start > 0 and end < L and a_string[start-1] == a_string[end]:\n",
    "            start -= 1\n",
    "            end += 1\n",
    "        length_pal_vector.append(end-start)\n",
    "    return length_pal_vector\n",
    "print longest_palindrom(a_string)"
   ]
  },
  {
   "cell_type": "code",
   "execution_count": 95,
   "metadata": {
    "collapsed": false
   },
   "outputs": [
    {
     "data": {
      "text/plain": [
       "[0, 1, 0, 1, 0, 5, 0, 1, 0, 1, 0, 1, 2]"
      ]
     },
     "execution_count": 95,
     "metadata": {},
     "output_type": "execute_result"
    }
   ],
   "source": [
    "length_pal_vector"
   ]
  },
  {
   "cell_type": "markdown",
   "metadata": {},
   "source": [
    "# Q5. How to find first non repeated character of a given String?"
   ]
  },
  {
   "cell_type": "code",
   "execution_count": 152,
   "metadata": {
    "collapsed": false
   },
   "outputs": [
    {
     "name": "stdout",
     "output_type": "stream",
     "text": [
      "y\n"
     ]
    }
   ],
   "source": [
    "a_string = 'sstytgzg'\n",
    "def first_non_rep_char(a_string):\n",
    "    my_dict = dict()\n",
    "    first_non_repeated = ''\n",
    "    for char in a_string:\n",
    "        if char not in my_dict:\n",
    "            my_dict[char] = 1\n",
    "        else:\n",
    "            my_dict[char] += 1\n",
    "\n",
    "    for char in a_string:\n",
    "        if my_dict[char] == 1:\n",
    "            break\n",
    "        char = 'Not found'\n",
    "    return char\n",
    "print first_non_rep_char(a_string)"
   ]
  },
  {
   "cell_type": "markdown",
   "metadata": {
    "collapsed": true
   },
   "source": [
    "# Q6. How to count occurrence of a given character in a String?"
   ]
  },
  {
   "cell_type": "code",
   "execution_count": 2,
   "metadata": {
    "collapsed": false
   },
   "outputs": [
    {
     "name": "stdout",
     "output_type": "stream",
     "text": [
      "2\n"
     ]
    }
   ],
   "source": [
    "a_string = 'sstytgzg'\n",
    "char = 's'\n",
    "\n",
    "def count_occurence(a_string, char):\n",
    "    count = 0\n",
    "    for c in a_string:\n",
    "        if c == char:\n",
    "            count += 1\n",
    "    return count\n",
    "print count_occurence(a_string, char)"
   ]
  },
  {
   "cell_type": "markdown",
   "metadata": {},
   "source": [
    "# Q7. How to check if two String are Anagram?"
   ]
  },
  {
   "cell_type": "code",
   "execution_count": 7,
   "metadata": {
    "collapsed": false
   },
   "outputs": [
    {
     "name": "stdout",
     "output_type": "stream",
     "text": [
      "True\n"
     ]
    }
   ],
   "source": [
    "# There are 4 different ways: 1. Check off, 2. Sort and compare 3. Brute force 4. Count and compare. \n",
    "# I will use the fourth method.\n",
    "string1 = 'python'\n",
    "string2 = 'yonhtp'\n",
    "\n",
    "def is_anagram(string1, string2):\n",
    "    dict1 = dict()\n",
    "    dict2 = dict()\n",
    "\n",
    "    for c1 in string1:\n",
    "        if c1 not in dict1:\n",
    "            dict1[c1] = 1\n",
    "        else:\n",
    "            dict1[c1] += 1\n",
    "\n",
    "    for c2 in string1:\n",
    "        if c2 not in dict2:\n",
    "            dict2[c2] = 1\n",
    "        else:\n",
    "            dict2[c2] += 1\n",
    "\n",
    "    return dict1 == dict2\n",
    "\n",
    "print is_anagram(string1, string2)"
   ]
  },
  {
   "cell_type": "markdown",
   "metadata": {},
   "source": [
    "# Q8.How to convert numeric String to int"
   ]
  },
  {
   "cell_type": "code",
   "execution_count": 13,
   "metadata": {
    "collapsed": false
   },
   "outputs": [
    {
     "name": "stdout",
     "output_type": "stream",
     "text": [
      "132\n"
     ]
    }
   ],
   "source": [
    "a_string = '132'\n",
    "dict_1_to_9 = {'0':0, '1':1, '2':2, '3': 3, '4': 4,\n",
    "              '5':5, '6':6, '7':7, '8':8, '9':9}\n",
    "def to_int(a_string):\n",
    "    if len(a_string) == 1:\n",
    "        return dict_1_to_9[a_string]\n",
    "    else:\n",
    "        return (10 ** (len(a_string)-1))*dict_1_to_9[a_string[0]] + to_int(a_string[1:])\n",
    "    \n",
    "print to_int(a_string)"
   ]
  },
  {
   "cell_type": "markdown",
   "metadata": {},
   "source": [
    "# Q9. In an array 1-100 numbers are stored, one number is missing how do you find it?"
   ]
  },
  {
   "cell_type": "code",
   "execution_count": 27,
   "metadata": {
    "collapsed": false
   },
   "outputs": [
    {
     "name": "stdout",
     "output_type": "stream",
     "text": [
      "9\n"
     ]
    }
   ],
   "source": [
    "N = 100\n",
    "my_array = range(1,N+1)\n",
    "my_array[8] = 0\n",
    "ideal_sum = N * (N + 1) / 2\n",
    "real_sum = sum(my_array)\n",
    "missing_number = ideal_sum - real_sum\n",
    "print missing_number"
   ]
  },
  {
   "cell_type": "code",
   "execution_count": 23,
   "metadata": {
    "collapsed": false
   },
   "outputs": [
    {
     "data": {
      "text/plain": [
       "10.0"
      ]
     },
     "execution_count": 23,
     "metadata": {},
     "output_type": "execute_result"
    }
   ],
   "source": [
    "ideal_sum"
   ]
  },
  {
   "cell_type": "code",
   "execution_count": 24,
   "metadata": {
    "collapsed": false
   },
   "outputs": [
    {
     "data": {
      "text/plain": [
       "6"
      ]
     },
     "execution_count": 24,
     "metadata": {},
     "output_type": "execute_result"
    }
   ],
   "source": [
    "real_sum"
   ]
  },
  {
   "cell_type": "markdown",
   "metadata": {},
   "source": [
    "# Q10. In an array 1-100 exactly one number is duplicate how do you find it? "
   ]
  },
  {
   "cell_type": "code",
   "execution_count": 49,
   "metadata": {
    "collapsed": false
   },
   "outputs": [
    {
     "name": "stdout",
     "output_type": "stream",
     "text": [
      "5\n"
     ]
    }
   ],
   "source": [
    "# Use the formula of sum of squares and arithmetic sum.\n",
    "N = 5\n",
    "my_array = range(1,N+1)\n",
    "my_array[1] = 5\n",
    "ideal_sum = N * (N + 1) / 2\n",
    "real_sum = sum(my_array)\n",
    "ideal_sum_square = N * (N + 1) * (2 * N + 1) / 6\n",
    "real_sum_square = sum([n ** 2 for n in my_array])\n",
    "diff = ideal_sum - real_sum\n",
    "diff_squares = ideal_sum_square - real_sum_square\n",
    "missing = (real_sum_square - ideal_sum_square)/ (2 *(ideal_sum -  real_sum ) ** 2) - 1/ (2 * (ideal_sum -  real_sum ))\n",
    "duplicate = missing + real_sum - ideal_sum\n",
    "print duplicate"
   ]
  },
  {
   "cell_type": "markdown",
   "metadata": {
    "collapsed": true
   },
   "source": [
    "# Q11. In an array 1-100 multiple numbers are duplicates, how do you find it? "
   ]
  },
  {
   "cell_type": "code",
   "execution_count": 7,
   "metadata": {
    "collapsed": false
   },
   "outputs": [
    {
     "name": "stdout",
     "output_type": "stream",
     "text": [
      "3\n",
      "5\n"
     ]
    }
   ],
   "source": [
    "N = 10\n",
    "my_array = [1, 2, 3, 3, 4, 5, 6, 5, 5, 9]\n",
    "d = dict()\n",
    "for n in my_array:\n",
    "    if n not in d:\n",
    "        d[n] = 1\n",
    "    else:\n",
    "        d[n] += 1\n",
    "        \n",
    "for key, value in d.iteritems():\n",
    "    if value > 1:\n",
    "        print key"
   ]
  },
  {
   "cell_type": "markdown",
   "metadata": {},
   "source": [
    "# Q12. Given two arrays, 1,2,3,4,5 and 2,3,1,0,5 find which number is not present in the second array."
   ]
  },
  {
   "cell_type": "code",
   "execution_count": 8,
   "metadata": {
    "collapsed": false
   },
   "outputs": [
    {
     "name": "stdout",
     "output_type": "stream",
     "text": [
      "4\n"
     ]
    }
   ],
   "source": [
    "array1 = [1, 2, 3, 4, 5]\n",
    "array2 = [2, 3, 1, 0, 5]\n",
    "hashmap = dict()\n",
    "for n in array2:\n",
    "    if n not in hashmap:\n",
    "        hashmap[n] = 1\n",
    "    else:\n",
    "        hashmap[n] += 1\n",
    "        \n",
    "for n in array1:\n",
    "    if n not in hashmap:\n",
    "        print n"
   ]
  },
  {
   "cell_type": "markdown",
   "metadata": {},
   "source": [
    "# Q13. How do you find second highest number in an integer array?"
   ]
  },
  {
   "cell_type": "code",
   "execution_count": 20,
   "metadata": {
    "collapsed": false
   },
   "outputs": [
    {
     "name": "stdout",
     "output_type": "stream",
     "text": [
      "largest number is:  2147483647 and second largest number is:  92\n"
     ]
    }
   ],
   "source": [
    "my_array = [20, 34, 21, 87, 92, 2147483647]\n",
    "max1 = 0; max2 = 0;\n",
    "for n in my_array:\n",
    "    if n>max1 and n>max2:\n",
    "        max2 = max1\n",
    "        max1 = n\n",
    "    elif n>max2 and n<max1:\n",
    "        max2 = n\n",
    "print 'largest number is: ', max1, 'and second largest number is: ',max2"
   ]
  },
  {
   "cell_type": "markdown",
   "metadata": {},
   "source": [
    "# Q14. How to find all pairs in array of integers whose sum is equal to given number?"
   ]
  },
  {
   "cell_type": "code",
   "execution_count": 26,
   "metadata": {
    "collapsed": false
   },
   "outputs": [
    {
     "name": "stdout",
     "output_type": "stream",
     "text": [
      "(7, 4)\n",
      "(8, 3)\n",
      "(9, 2)\n"
     ]
    }
   ],
   "source": [
    "my_array = [2, 4, 3, 5, 7, 8, 9]\n",
    "hashSet = set(my_array)\n",
    "k = 11\n",
    "for n in my_array:\n",
    "    if n>k/2 and k-n in hashSet:\n",
    "        print (n, k-n)"
   ]
  },
  {
   "cell_type": "markdown",
   "metadata": {},
   "source": [
    "# Q15. How to remove duplicate elements from array in Java?"
   ]
  },
  {
   "cell_type": "code",
   "execution_count": 27,
   "metadata": {
    "collapsed": false
   },
   "outputs": [
    {
     "name": "stdout",
     "output_type": "stream",
     "text": [
      "[2, 4, 3, 5, 8]\n"
     ]
    }
   ],
   "source": [
    "my_array = [2, 4, 3, 5, 5, 8, 4]\n",
    "seen = set()\n",
    "my_array_no_dup = []\n",
    "for n in my_array:\n",
    "    if n not in seen:\n",
    "        seen.add(n)\n",
    "        my_array_no_dup.append(n)\n",
    "print my_array_no_dup\n"
   ]
  },
  {
   "cell_type": "markdown",
   "metadata": {
    "collapsed": true
   },
   "source": [
    "# Q16.  How to find largest and smallest number in array?"
   ]
  },
  {
   "cell_type": "code",
   "execution_count": 1,
   "metadata": {
    "collapsed": false
   },
   "outputs": [
    {
     "name": "stdout",
     "output_type": "stream",
     "text": [
      "2 9\n"
     ]
    }
   ],
   "source": [
    "my_array = [2, 4, 3, 5, 7, 8, 9]\n",
    "minval = my_array[0]\n",
    "maxval = my_array[0]\n",
    "for n in my_array:\n",
    "    if n > maxval:\n",
    "        maxval = n\n",
    "    elif n < minval:\n",
    "        minval = n\n",
    "print minval, maxval"
   ]
  },
  {
   "cell_type": "markdown",
   "metadata": {},
   "source": [
    "# Q17. How to find top two maximum number in array?"
   ]
  },
  {
   "cell_type": "code",
   "execution_count": 3,
   "metadata": {
    "collapsed": false
   },
   "outputs": [
    {
     "name": "stdout",
     "output_type": "stream",
     "text": [
      "9 10\n"
     ]
    }
   ],
   "source": [
    "my_array = [2, 4, 10, 5, 7, 8, 9]\n",
    "top1 = my_array[0]\n",
    "top2 = my_array[0]\n",
    "for n in my_array:\n",
    "    if n > top1:\n",
    "        top2 = top1\n",
    "        top1 = n\n",
    "    elif n > top2 and n < top1:\n",
    "        top2 = n\n",
    "print top2, top1"
   ]
  },
  {
   "cell_type": "markdown",
   "metadata": {},
   "source": [
    "# Q14. How do you find middle element of a linked list in single pass?"
   ]
  },
  {
   "cell_type": "markdown",
   "metadata": {},
   "source": [
    "Let's first define a linked list class in Python."
   ]
  },
  {
   "cell_type": "code",
   "execution_count": 10,
   "metadata": {
    "collapsed": true
   },
   "outputs": [],
   "source": [
    "class Node:\n",
    "    def __init__(self, value):\n",
    "        self.data = value\n",
    "        self.next = None\n",
    "class UnorderedList:\n",
    "    def __init__(self):\n",
    "        self.head = None\n",
    "    def add(self, item):\n",
    "        temp = Node(item)\n",
    "        temp.next = self.head\n",
    "        self.head = temp\n",
    "    def add_all(self, a_list):\n",
    "        for item in a_list:\n",
    "            self.add(item)\n",
    "    def __str__(self):\n",
    "\t\tstring = 'Linked List: '\n",
    "\t\tcurrent = self.head\n",
    "\t\twhile current != None:\n",
    "\t\t\tstring = string = \"{0} {1}\".format(string, current.data)\n",
    "\t\t\tcurrent = current.next\n",
    "\t\treturn string       "
   ]
  },
  {
   "cell_type": "code",
   "execution_count": 28,
   "metadata": {
    "collapsed": false
   },
   "outputs": [
    {
     "name": "stdout",
     "output_type": "stream",
     "text": [
      "Linked List:  9 8 7 5 10 4 2\n"
     ]
    }
   ],
   "source": [
    "my_list = [2, 4, 10, 5, 7, 8, 9]\n",
    "linked_list = UnorderedList()\n",
    "linked_list.add_all(my_list)\n",
    "print linked_list"
   ]
  },
  {
   "cell_type": "code",
   "execution_count": 31,
   "metadata": {
    "collapsed": false
   },
   "outputs": [
    {
     "name": "stdout",
     "output_type": "stream",
     "text": [
      "Middle value is: 5\n"
     ]
    }
   ],
   "source": [
    "current = linked_list.head\n",
    "slow_runner = current\n",
    "fast_runner = current\n",
    "while fast_runner.next != None and fast_runner.next.next != None:\n",
    "    slow_runner = slow_runner.next\n",
    "    fast_runner = fast_runner.next.next\n",
    "print 'Middle value is:', slow_runner.data"
   ]
  },
  {
   "cell_type": "markdown",
   "metadata": {},
   "source": [
    "# Q15. How do you find 3rd element from last in single pass?"
   ]
  },
  {
   "cell_type": "code",
   "execution_count": 37,
   "metadata": {
    "collapsed": false
   },
   "outputs": [
    {
     "name": "stdout",
     "output_type": "stream",
     "text": [
      "Linked List:  9 8 7 5 10 4 2\n",
      "3rd element from last value is: 10\n"
     ]
    }
   ],
   "source": [
    "print linked_list\n",
    "current = linked_list.head\n",
    "fast_runner = current\n",
    "while fast_runner.next != None and fast_runner.next.next != None:\n",
    "    third_element = fast_runner\n",
    "    fast_runner = fast_runner.next.next\n",
    "print '3rd element from last value is:', third_element.data"
   ]
  },
  {
   "cell_type": "markdown",
   "metadata": {},
   "source": [
    "# Q16. How do you find if there is any loop in singly linked list? How do you find the start of the loop?"
   ]
  },
  {
   "cell_type": "markdown",
   "metadata": {},
   "source": [
    "Let's generate two lists with and without loops."
   ]
  },
  {
   "cell_type": "code",
   "execution_count": 45,
   "metadata": {
    "collapsed": true
   },
   "outputs": [],
   "source": [
    "linked_list.head = Node(1)\n",
    "linked_list.head.next = Node(2)\n",
    "linked_list.head.next.next = Node(3)\n",
    "linked_list.head.next.next.next = Node(4)\n",
    "linked_list.head.next.next.next.next = Node(5)\n",
    "linked_list.head.next.next.next.next.next = Node(6)\n",
    "linked_list.head.next.next.next.next.next.next = Node(7)\n",
    "linked_list.head.next.next.next.next.next.next.next = linked_list.head.next.next"
   ]
  },
  {
   "cell_type": "code",
   "execution_count": 57,
   "metadata": {
    "collapsed": false
   },
   "outputs": [
    {
     "name": "stdout",
     "output_type": "stream",
     "text": [
      "Length of the loop is:  5\n",
      "Start of the loop is:  3\n"
     ]
    }
   ],
   "source": [
    "# Use two pointers again: fast_runner and slow_runner. After the firat meet, \n",
    "# the number of steps required to meet again is equal to the length of the loop.\n",
    "# Assume the slow runner is at the start of the loop. It takes loop_size -  2 steps\n",
    "# for the first meet. If slow_runner takes two extra steps, it will reach the start\n",
    "# of the loop.\n",
    "current = linked_list.head\n",
    "slow_runner = current\n",
    "fast_runner = current\n",
    "found = False; first_meet = False\n",
    "steps = 0\n",
    "while fast_runner.next != None and fast_runner.next.next != None and not found:\n",
    "    slow_runner = slow_runner.next\n",
    "    fast_runner = fast_runner.next.next\n",
    "    if first_meet == True:\n",
    "        steps += 1\n",
    "    if slow_runner == fast_runner:\n",
    "        if first_meet == False:\n",
    "            first_meet_node = slow_runner\n",
    "            first_meet = True\n",
    "        else:\n",
    "            print 'Length of the loop is: ', steps\n",
    "            found = True\n",
    "print 'Start of the loop is: ', first_meet_node.next.next.data"
   ]
  },
  {
   "cell_type": "markdown",
   "metadata": {},
   "source": [
    "# Q17. How do you reverse a singly linked list?"
   ]
  },
  {
   "cell_type": "code",
   "execution_count": 75,
   "metadata": {
    "collapsed": false
   },
   "outputs": [],
   "source": [
    "# Simply remove the first element of the list and add to the new list\n",
    "def remove_front(linked_list):\n",
    "    removed = linked_list.head\n",
    "    temp = linked_list.head.next\n",
    "    linked_list.head = temp\n",
    "    return removed.data"
   ]
  },
  {
   "cell_type": "code",
   "execution_count": 76,
   "metadata": {
    "collapsed": false
   },
   "outputs": [
    {
     "name": "stdout",
     "output_type": "stream",
     "text": [
      "Linked List:  9 8 7 5 10 4 2\n",
      "Linked List:  2 4 10 5 7 8 9\n"
     ]
    }
   ],
   "source": [
    "my_list = [2, 4, 10, 5, 7, 8, 9]\n",
    "linked_list = UnorderedList()\n",
    "linked_list.add_all(my_list)\n",
    "print linked_list\n",
    "reversed_list = UnorderedList()\n",
    "while linked_list.head:\n",
    "    removed = remove_front(linked_list)\n",
    "    reversed_list.add(removed)\n",
    "print reversed_list"
   ]
  },
  {
   "cell_type": "markdown",
   "metadata": {},
   "source": [
    "# Q18. Difference between linked list and array data structure?"
   ]
  },
  {
   "cell_type": "markdown",
   "metadata": {},
   "source": [
    "In computer science, arrays are a very simple data structure where elements are sequentially stored in continued memory and linked lists are structures where several separated nodes link to each other. Iterating over the contents of the data structure is equally efficient for both kinds, but directly accessing an element at a given index has O(1) (complexity) runtime in an array, while it is O(n) in a linked list with n nodes (where you would have to transverse the list from the beginning). Furthermore, in a linked list, once you know where you want to insert something, insertion is O(1), no matter how many elements the list has. For arrays, an insertion would have to move all elements that are to the right of the insertion point or moving all the elements to a larger array if needed, being then O(n)."
   ]
  },
  {
   "cell_type": "markdown",
   "metadata": {},
   "source": [
    "# Binary Tree Questions"
   ]
  },
  {
   "cell_type": "markdown",
   "metadata": {},
   "source": [
    "Let's create a binary tree class."
   ]
  },
  {
   "cell_type": "code",
   "execution_count": 157,
   "metadata": {
    "collapsed": true
   },
   "outputs": [],
   "source": [
    "class BinaryTree:\n",
    "    def __init__(self, root):\n",
    "        self.root = root\n",
    "        self.left = None\n",
    "        self.right = None\n",
    "    def add_left(self, new_node):\n",
    "        if self.left == None:\n",
    "            self.left = BinaryTree(new_node)\n",
    "        else:\n",
    "            temp = BinaryTree(new_node)\n",
    "            #temp.left = self.left\n",
    "            self.left.left = temp\n",
    "    def add_right(self, new_node):\n",
    "        if self.right == None:\n",
    "            self.right = BinaryTree(new_node)\n",
    "        else:\n",
    "            temp = BinaryTree(new_node)\n",
    "            temp.right = self.right\n",
    "            self.right = temp\n",
    "    def is_leaf(self):\n",
    "        return self.left is None and self.right is None\n",
    "#     def display(self):\n",
    "#             print self.root, \n",
    "#         if self.left and self.right:\n",
    "#             print '\\n'\n",
    "#             print self.left.display(), self.right.display()\n",
    "#         elif self.right:\n",
    "#             print self.right.display()\n",
    "#         elif self.left:\n",
    "#             print self.left.display()"
   ]
  },
  {
   "cell_type": "code",
   "execution_count": 158,
   "metadata": {
    "collapsed": true
   },
   "outputs": [],
   "source": [
    "my_tree = BinaryTree('a')\n",
    "my_tree.add_left('b')\n",
    "my_tree.add_right('c')\n",
    "my_tree.add_left('d')"
   ]
  },
  {
   "cell_type": "code",
   "execution_count": 161,
   "metadata": {
    "collapsed": false
   },
   "outputs": [
    {
     "data": {
      "text/plain": [
       "True"
      ]
     },
     "execution_count": 161,
     "metadata": {},
     "output_type": "execute_result"
    }
   ],
   "source": [
    "my_tree.left.left.is_leaf()"
   ]
  },
  {
   "cell_type": "markdown",
   "metadata": {},
   "source": [
    "# Tree traversals"
   ]
  },
  {
   "cell_type": "markdown",
   "metadata": {},
   "source": [
    "preorder: In a preorder traversal, we visit the root node first, then recursively do a preorder traversal of the left subtree, followed by a recursive preorder traversal of the right subtree."
   ]
  },
  {
   "cell_type": "markdown",
   "metadata": {},
   "source": [
    "inorder: In an inorder traversal, we recursively do an inorder traversal on the left subtree, visit the root node, and finally do a recursive inorder traversal of the right subtree."
   ]
  },
  {
   "cell_type": "markdown",
   "metadata": {},
   "source": [
    "postorder: In a postorder traversal, we recursively do a postorder traversal of the left subtree and the right subtree followed by a visit to the root node."
   ]
  },
  {
   "cell_type": "code",
   "execution_count": 144,
   "metadata": {
    "collapsed": true
   },
   "outputs": [],
   "source": [
    "def pre_order(tree):\n",
    "    if tree:\n",
    "        print tree.root\n",
    "        pre_order(tree.left)\n",
    "        pre_order(tree.right)"
   ]
  },
  {
   "cell_type": "code",
   "execution_count": 152,
   "metadata": {
    "collapsed": false
   },
   "outputs": [
    {
     "name": "stdout",
     "output_type": "stream",
     "text": [
      "a\n",
      "b\n",
      "d\n",
      "c\n"
     ]
    }
   ],
   "source": [
    "pre_order(my_tree)"
   ]
  },
  {
   "cell_type": "code",
   "execution_count": 153,
   "metadata": {
    "collapsed": true
   },
   "outputs": [],
   "source": [
    "def post_order(tree):\n",
    "    if tree:\n",
    "        post_order(tree.left)\n",
    "        post_order(tree.right)\n",
    "        print tree.root"
   ]
  },
  {
   "cell_type": "code",
   "execution_count": 154,
   "metadata": {
    "collapsed": false
   },
   "outputs": [
    {
     "name": "stdout",
     "output_type": "stream",
     "text": [
      "d\n",
      "b\n",
      "c\n",
      "a\n"
     ]
    }
   ],
   "source": [
    "post_order(my_tree)"
   ]
  },
  {
   "cell_type": "code",
   "execution_count": 155,
   "metadata": {
    "collapsed": true
   },
   "outputs": [],
   "source": [
    "def in_order(tree):\n",
    "    if tree:\n",
    "        in_order(tree.left)\n",
    "        print tree.root\n",
    "        in_order(tree.right)   "
   ]
  },
  {
   "cell_type": "code",
   "execution_count": 156,
   "metadata": {
    "collapsed": false
   },
   "outputs": [
    {
     "name": "stdout",
     "output_type": "stream",
     "text": [
      "d\n",
      "b\n",
      "a\n",
      "c\n"
     ]
    }
   ],
   "source": [
    "in_order(my_tree)"
   ]
  },
  {
   "cell_type": "markdown",
   "metadata": {},
   "source": [
    "# Q18. How do you find depth of binary tree?"
   ]
  },
  {
   "cell_type": "code",
   "execution_count": 204,
   "metadata": {
    "collapsed": true
   },
   "outputs": [],
   "source": [
    "def depth(tree):\n",
    "    if tree is None:\n",
    "        return 0\n",
    "    else:\n",
    "        if tree.left and tree.right:\n",
    "            return 1 + max(depth(tree.left), depth(tree.right))\n",
    "        else:\n",
    "            if tree.left:\n",
    "                return 1 + depth(tree.left)\n",
    "            if tree.right:\n",
    "                return 1 + depth(tree.right)\n",
    "            else:\n",
    "                return 0"
   ]
  },
  {
   "cell_type": "code",
   "execution_count": 206,
   "metadata": {
    "collapsed": false
   },
   "outputs": [
    {
     "name": "stdout",
     "output_type": "stream",
     "text": [
      "2\n"
     ]
    }
   ],
   "source": [
    "print depth(my_tree)"
   ]
  },
  {
   "cell_type": "markdown",
   "metadata": {},
   "source": [
    "# Q19. Write code to print InOrder traversal of a tree?"
   ]
  },
  {
   "cell_type": "code",
   "execution_count": 207,
   "metadata": {
    "collapsed": true
   },
   "outputs": [],
   "source": [
    "def in_order(tree):\n",
    "    if tree:\n",
    "        in_order(tree.left)\n",
    "        print tree.root\n",
    "        in_order(tree.right)"
   ]
  },
  {
   "cell_type": "code",
   "execution_count": 208,
   "metadata": {
    "collapsed": false
   },
   "outputs": [
    {
     "name": "stdout",
     "output_type": "stream",
     "text": [
      "d\n",
      "b\n",
      "a\n",
      "c\n"
     ]
    }
   ],
   "source": [
    "in_order(my_tree)"
   ]
  },
  {
   "cell_type": "markdown",
   "metadata": {},
   "source": [
    "# Q20. Print out all leaf node of a binary tree?"
   ]
  },
  {
   "cell_type": "code",
   "execution_count": 209,
   "metadata": {
    "collapsed": true
   },
   "outputs": [],
   "source": [
    "def print_leaves(tree):\n",
    "    if tree:\n",
    "        if tree.is_leaf():\n",
    "            print tree.root\n",
    "        else:\n",
    "            print_leaves(tree.left)\n",
    "            print_leaves(tree.right)"
   ]
  },
  {
   "cell_type": "code",
   "execution_count": 210,
   "metadata": {
    "collapsed": false
   },
   "outputs": [
    {
     "name": "stdout",
     "output_type": "stream",
     "text": [
      "d\n",
      "c\n"
     ]
    }
   ],
   "source": [
    "print_leaves(my_tree)"
   ]
  },
  {
   "cell_type": "markdown",
   "metadata": {},
   "source": [
    "# Q21. Write a method in Java to check if a tree is a binary search tree or not?"
   ]
  },
  {
   "cell_type": "markdown",
   "metadata": {},
   "source": [
    "Binary Search Trees"
   ]
  },
  {
   "cell_type": "markdown",
   "metadata": {},
   "source": [
    "A binary search tree (BST) is a node-based binary tree data structure which has the following properties:\n",
    "1. The left subtree of a node contains only nodes with keys less than the node’s key.\n",
    "2. The right subtree of a node contains only nodes with keys greater than the node’s key.\n",
    "3. Both the left and right subtrees must also be a binary search tree.\n",
    "4. There must be no duplicate nodes."
   ]
  },
  {
   "cell_type": "code",
   "execution_count": 228,
   "metadata": {
    "collapsed": true
   },
   "outputs": [],
   "source": [
    "def is_bst(tree, LB = -float('inf'), UB = float('inf')):\n",
    "    if tree is None:\n",
    "        return True\n",
    "    if LB <= tree.root and tree.root <= UB:\n",
    "            return is_bst(tree.left, LB = -float('inf'), UB = tree.root) and \\\n",
    "                   is_bst(tree.right, LB = tree.root, UB = float('inf'))\n",
    "    else:\n",
    "        return False\n",
    "        "
   ]
  },
  {
   "cell_type": "code",
   "execution_count": 229,
   "metadata": {
    "collapsed": true
   },
   "outputs": [],
   "source": [
    "from random import randrange\n",
    "def make_random_bsearch_tree(depth = 3, l = -10, r = 10):\n",
    "\tif depth < 0 or l == r: return None\n",
    "\ttree = BinaryTree(randrange(l, r))\n",
    "\ttree.left = make_random_bsearch_tree(depth - 1, l, tree.root)\n",
    "\ttree.right = make_random_bsearch_tree(depth - 1, tree.root, r)\n",
    "\treturn tree"
   ]
  },
  {
   "cell_type": "code",
   "execution_count": 230,
   "metadata": {
    "collapsed": false
   },
   "outputs": [],
   "source": [
    "my_tree = make_random_bsearch_tree()"
   ]
  },
  {
   "cell_type": "code",
   "execution_count": 231,
   "metadata": {
    "collapsed": false
   },
   "outputs": [
    {
     "name": "stdout",
     "output_type": "stream",
     "text": [
      "True\n"
     ]
    }
   ],
   "source": [
    "print is_bst(my_tree)"
   ]
  },
  {
   "cell_type": "markdown",
   "metadata": {},
   "source": [
    "# Q22. How to check if a tree is balanced or not in Java?"
   ]
  },
  {
   "cell_type": "code",
   "execution_count": 232,
   "metadata": {
    "collapsed": true
   },
   "outputs": [],
   "source": [
    "import random\n",
    "def make_balanced_tree(depth):\n",
    "    if depth <= 0: return None\n",
    "    tree = BinaryTree(random.randint(0,100))\n",
    "    tree.left = make_balanced_tree(depth-1)\n",
    "    tree.right = make_balanced_tree(depth-1)\n",
    "    return tree\n",
    "balanced_tree = make_balanced_tree(4)"
   ]
  },
  {
   "cell_type": "code",
   "execution_count": 235,
   "metadata": {
    "collapsed": true
   },
   "outputs": [],
   "source": [
    "bt = BinaryTree(random.randint(0, 100))\n",
    "for c1 in xrange(0,19):\n",
    "    bt2 = BinaryTree(random.randint(0, 100))\n",
    "    bt2.left = bt\n",
    "    bt=bt2\n",
    "unbalanced_tree=bt"
   ]
  },
  {
   "cell_type": "code",
   "execution_count": 233,
   "metadata": {
    "collapsed": true
   },
   "outputs": [],
   "source": [
    "def is_balanced(tree):\n",
    "    if tree is None: return True\n",
    "    diff = abs(depth(tree.left) - depth(tree.right))\n",
    "    if diff > 1:\n",
    "        return False\n",
    "    else:\n",
    "        return is_balanced(tree.left) and is_balanced(tree.right)"
   ]
  },
  {
   "cell_type": "code",
   "execution_count": 234,
   "metadata": {
    "collapsed": false
   },
   "outputs": [
    {
     "data": {
      "text/plain": [
       "True"
      ]
     },
     "execution_count": 234,
     "metadata": {},
     "output_type": "execute_result"
    }
   ],
   "source": [
    "is_balanced(balanced_tree)"
   ]
  },
  {
   "cell_type": "code",
   "execution_count": 236,
   "metadata": {
    "collapsed": false
   },
   "outputs": [
    {
     "data": {
      "text/plain": [
       "False"
      ]
     },
     "execution_count": 236,
     "metadata": {},
     "output_type": "execute_result"
    }
   ],
   "source": [
    "is_balanced(unbalanced_tree)"
   ]
  },
  {
   "cell_type": "markdown",
   "metadata": {},
   "source": [
    "# Searching and Sorting"
   ]
  },
  {
   "cell_type": "markdown",
   "metadata": {},
   "source": [
    "# Q23. Write a program to sort numbers in place using quick sort ?"
   ]
  },
  {
   "cell_type": "code",
   "execution_count": 250,
   "metadata": {
    "collapsed": true
   },
   "outputs": [],
   "source": [
    "A = [1, 3, 2, 6, 9, 8, 11, 4]"
   ]
  },
  {
   "cell_type": "code",
   "execution_count": 251,
   "metadata": {
    "collapsed": true
   },
   "outputs": [],
   "source": [
    "p = 1; r = len(A)-1\n",
    "def partition(A, p, r):\n",
    "    x = A[r]\n",
    "    i = p-1\n",
    "    for j in range(p, r):\n",
    "        if A[j] <= x:\n",
    "            i += 1\n",
    "            A[i], A[j] = A[j], A[i]\n",
    "    A[i+1], A[r] = A[r], A[i+1]\n",
    "    return i+1\n",
    "        "
   ]
  },
  {
   "cell_type": "code",
   "execution_count": 252,
   "metadata": {
    "collapsed": false
   },
   "outputs": [
    {
     "name": "stdout",
     "output_type": "stream",
     "text": [
      "3\n"
     ]
    }
   ],
   "source": [
    "print partition(A, p, r)"
   ]
  },
  {
   "cell_type": "code",
   "execution_count": 253,
   "metadata": {
    "collapsed": false
   },
   "outputs": [
    {
     "name": "stdout",
     "output_type": "stream",
     "text": [
      "[1, 3, 2, 4, 9, 8, 11, 6]\n"
     ]
    }
   ],
   "source": [
    "print A"
   ]
  },
  {
   "cell_type": "code",
   "execution_count": 254,
   "metadata": {
    "collapsed": false
   },
   "outputs": [],
   "source": [
    "def quicksort(A, p, r):\n",
    "    if p < r:\n",
    "        q = partition(A, p, r)\n",
    "        quicksort(A, p, q-1 )\n",
    "        quicksort(A, q+1, r)"
   ]
  },
  {
   "cell_type": "code",
   "execution_count": 255,
   "metadata": {
    "collapsed": true
   },
   "outputs": [],
   "source": [
    "quicksort(A, p, r)"
   ]
  },
  {
   "cell_type": "code",
   "execution_count": 256,
   "metadata": {
    "collapsed": false
   },
   "outputs": [
    {
     "data": {
      "text/plain": [
       "[1, 2, 3, 4, 6, 8, 9, 11]"
      ]
     },
     "execution_count": 256,
     "metadata": {},
     "output_type": "execute_result"
    }
   ],
   "source": [
    "A"
   ]
  },
  {
   "cell_type": "markdown",
   "metadata": {},
   "source": [
    "Let's use a random pivot"
   ]
  },
  {
   "cell_type": "code",
   "execution_count": 257,
   "metadata": {
    "collapsed": false
   },
   "outputs": [
    {
     "name": "stdout",
     "output_type": "stream",
     "text": [
      "[1, 2, 3, 4, 6, 8, 9, 11]\n"
     ]
    }
   ],
   "source": [
    "def random_partition(A, p, r):\n",
    "    i = randrange(p, r)\n",
    "    A[r], A[i] = A[i], A[r]\n",
    "    return partition(A, p, r)\n",
    "def random_quicksort(A, p, r):\n",
    "    if p < r:\n",
    "        q = random_partition(A, p, r)\n",
    "        random_quicksort(A, p, q-1)\n",
    "        random_quicksort(A, q+1, r)\n",
    "A = [1, 3, 2, 6, 9, 8, 11, 4]\n",
    "p = 1; r = len(A)-1\n",
    "random_quicksort(A, p, r)\n",
    "print A"
   ]
  },
  {
   "cell_type": "markdown",
   "metadata": {},
   "source": [
    "# Q24. Write a program to implement binary search algorithm in Java or C++? "
   ]
  },
  {
   "cell_type": "code",
   "execution_count": 258,
   "metadata": {
    "collapsed": true
   },
   "outputs": [],
   "source": [
    "A = [1, 2, 3, 4, 6, 8, 9, 11] # we need an ordered list"
   ]
  },
  {
   "cell_type": "code",
   "execution_count": 263,
   "metadata": {
    "collapsed": false
   },
   "outputs": [
    {
     "name": "stdout",
     "output_type": "stream",
     "text": [
      "True 4\n"
     ]
    }
   ],
   "source": [
    "# nonrecursive\n",
    "def binarySearch(A, item):\n",
    "    first = 0; last = len(A) - 1; found = False\n",
    "    while first <= last and not found:\n",
    "        middle = (first + last) // 2\n",
    "        if A[middle] == item: found = True\n",
    "        else:\n",
    "            if A[middle] < item:\n",
    "                first = middle - 1\n",
    "            else:\n",
    "                last = middle + 1\n",
    "    return found, middle\n",
    "found, middle = binarySearch(A, 6)\n",
    "print found, middle"
   ]
  },
  {
   "cell_type": "code",
   "execution_count": 264,
   "metadata": {
    "collapsed": false
   },
   "outputs": [
    {
     "name": "stdout",
     "output_type": "stream",
     "text": [
      "True 4\n"
     ]
    }
   ],
   "source": [
    "# recursive\n",
    "def binarySearchRecursive(A, item):\n",
    "    if len(A) == 0: return False\n",
    "    middle = len(A)//2\n",
    "    if item == A[middle]: return True, middle\n",
    "    if item < A[middle]:\n",
    "        return binarySearchRecursive(A[:middle])\n",
    "    else:\n",
    "        return binarySearchRecursive(A[middle:])\n",
    "found, middle = binarySearchRecursive(A, 6) \n",
    "print found, middle"
   ]
  },
  {
   "cell_type": "markdown",
   "metadata": {},
   "source": [
    "# Q26.Write code to implement Insertion Sort in Java?"
   ]
  },
  {
   "cell_type": "code",
   "execution_count": 265,
   "metadata": {
    "collapsed": false
   },
   "outputs": [
    {
     "name": "stdout",
     "output_type": "stream",
     "text": [
      "[1, 2, 3, 4, 6, 8, 9, 11]\n"
     ]
    }
   ],
   "source": [
    "A = [1, 3, 2, 6, 9, 8, 11, 4]\n",
    "def insertion_sort(A):\n",
    "    if len(A) > 1:\n",
    "        for j in range(2, len(A)):\n",
    "            key = A[j]\n",
    "            i = j - 1\n",
    "            while i >= 0 and A[i]>key:\n",
    "                A[i+1] = A[i]\n",
    "                i -= 1\n",
    "            A[i+1] = key\n",
    "insertion_sort(A)\n",
    "print A"
   ]
  },
  {
   "cell_type": "markdown",
   "metadata": {},
   "source": [
    "# Q27. Write code to implement Bubble Sort in Java?"
   ]
  },
  {
   "cell_type": "code",
   "execution_count": 267,
   "metadata": {
    "collapsed": false
   },
   "outputs": [
    {
     "name": "stdout",
     "output_type": "stream",
     "text": [
      "[1, 2, 3, 4, 6, 8, 9, 11]\n"
     ]
    }
   ],
   "source": [
    "A = [1, 3, 2, 6, 9, 8, 11, 4]\n",
    "def bubble_sort(A):\n",
    "    number_of_passes = len(A)-1\n",
    "    for idx_pass in range(number_of_passes):\n",
    "        for j in range(number_of_passes-idx_pass):\n",
    "            if A[j] > A[j+1]:\n",
    "                A[j], A[j+1] = A[j+1], A[j]\n",
    "bubble_sort(A)\n",
    "print A"
   ]
  },
  {
   "cell_type": "code",
   "execution_count": null,
   "metadata": {
    "collapsed": true
   },
   "outputs": [],
   "source": []
  }
 ],
 "metadata": {
  "celltoolbar": "Raw Cell Format",
  "kernelspec": {
   "display_name": "Python 2",
   "language": "python",
   "name": "python2"
  },
  "language_info": {
   "codemirror_mode": {
    "name": "ipython",
    "version": 2
   },
   "file_extension": ".py",
   "mimetype": "text/x-python",
   "name": "python",
   "nbconvert_exporter": "python",
   "pygments_lexer": "ipython2",
   "version": "2.7.9"
  }
 },
 "nbformat": 4,
 "nbformat_minor": 0
}

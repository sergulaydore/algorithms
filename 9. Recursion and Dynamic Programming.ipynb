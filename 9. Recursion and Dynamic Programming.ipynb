{
 "cells": [
  {
   "cell_type": "markdown",
   "metadata": {},
   "source": [
    "### A child is running up a staircase with n steps, and can hoop either 1 step, 2 steps, or 3 steps at a time. Implement a method to count how many possible ways the child can run up the stairs."
   ]
  },
  {
   "cell_type": "code",
   "execution_count": 11,
   "metadata": {
    "collapsed": false
   },
   "outputs": [
    {
     "name": "stdout",
     "output_type": "stream",
     "text": [
      "27\n"
     ]
    }
   ],
   "source": [
    "class diff_ways(object):\n",
    "    def __init__(self):\n",
    "        self.db = {1:1, 2:2, 3:4}\n",
    "    def compute(self, n):\n",
    "        if n in self.db:\n",
    "            return self.db[n]\n",
    "        else:\n",
    "            self.db[n] = self.compute(n-1) + self.compute(n-2) + self.compute(n-3) + 7\n",
    "            return self.db[n]\n",
    "        \n",
    "diff_ways_inst  = diff_ways()\n",
    "print diff_ways_inst.compute(5)"
   ]
  },
  {
   "cell_type": "markdown",
   "metadata": {},
   "source": [
    "### Imagine a robot sitting on the upper left corner of an X by Y grid. The robot can only move in two directions: right and down. How many possible paths are there for the robot to go from (0, 0) to (X, Y)?"
   ]
  },
  {
   "cell_type": "code",
   "execution_count": 64,
   "metadata": {
    "collapsed": true
   },
   "outputs": [],
   "source": [
    "class possible_paths(object):\n",
    "    def __init__(self):\n",
    "        self.db = {(0, 0): 0, (0, 1): 1, (1, 0): 1, (1,1): 2}\n",
    "    def compute(self, (x, y)):\n",
    "        if (x, y) in self.db: return self.db[(x,y)]\n",
    "        elif x == 0: \n",
    "            self.db[(x,y)] = 1\n",
    "            return self.db[(x,y)]\n",
    "        elif y == 0: \n",
    "            self.db[(x,y)] = 1\n",
    "            return self.db[(x,y)]\n",
    "        else:\n",
    "            n = min(x,y)\n",
    "            self.db[(x,y)] = self.compute((x-1, y)) + \\\n",
    "                                self.compute((x, y-1)) \n",
    "            return self.db[(x,y)]\n",
    "        "
   ]
  },
  {
   "cell_type": "code",
   "execution_count": 68,
   "metadata": {
    "collapsed": false
   },
   "outputs": [
    {
     "name": "stdout",
     "output_type": "stream",
     "text": [
      "20\n"
     ]
    }
   ],
   "source": [
    "possible_paths_inst = possible_paths()\n",
    "print possible_paths_inst.compute((3,3))"
   ]
  },
  {
   "cell_type": "code",
   "execution_count": null,
   "metadata": {
    "collapsed": true
   },
   "outputs": [],
   "source": []
  }
 ],
 "metadata": {
  "kernelspec": {
   "display_name": "Python 2",
   "language": "python",
   "name": "python2"
  },
  "language_info": {
   "codemirror_mode": {
    "name": "ipython",
    "version": 2
   },
   "file_extension": ".py",
   "mimetype": "text/x-python",
   "name": "python",
   "nbconvert_exporter": "python",
   "pygments_lexer": "ipython2",
   "version": "2.7.9"
  }
 },
 "nbformat": 4,
 "nbformat_minor": 0
}
